{
 "cells": [
  {
   "cell_type": "code",
   "execution_count": 7,
   "metadata": {},
   "outputs": [
    {
     "name": "stdout",
     "output_type": "stream",
     "text": [
      "Requirement already satisfied: requests-oauthlib==1.3.0 in ./lib/python3.7/site-packages (1.3.0)\n",
      "Requirement already satisfied: requests>=2.0.0 in ./lib/python3.7/site-packages (from requests-oauthlib==1.3.0) (2.24.0)\n",
      "Requirement already satisfied: oauthlib>=3.0.0 in ./lib/python3.7/site-packages (from requests-oauthlib==1.3.0) (3.1.0)\n",
      "Requirement already satisfied: certifi>=2017.4.17 in ./lib/python3.7/site-packages (from requests>=2.0.0->requests-oauthlib==1.3.0) (2019.9.11)\n",
      "Requirement already satisfied: chardet<4,>=3.0.2 in ./lib/python3.7/site-packages (from requests>=2.0.0->requests-oauthlib==1.3.0) (3.0.4)\n",
      "Requirement already satisfied: urllib3!=1.25.0,!=1.25.1,<1.26,>=1.21.1 in ./lib/python3.7/site-packages (from requests>=2.0.0->requests-oauthlib==1.3.0) (1.24.2)\n",
      "Requirement already satisfied: idna<3,>=2.5 in ./lib/python3.7/site-packages (from requests>=2.0.0->requests-oauthlib==1.3.0) (2.8)\n",
      "\u001b[33mWARNING: You are using pip version 21.1.1; however, version 21.1.2 is available.\n",
      "You should consider upgrading via the '/opt/anaconda3/bin/python -m pip install --upgrade pip' command.\u001b[0m\n"
     ]
    }
   ],
   "source": [
    "!pip install requests-oauthlib==1.3.0"
   ]
  },
  {
   "cell_type": "code",
   "execution_count": 8,
   "metadata": {},
   "outputs": [
    {
     "name": "stdout",
     "output_type": "stream",
     "text": [
      "Requirement already satisfied: requests in ./lib/python3.7/site-packages (2.24.0)\n",
      "Requirement already satisfied: urllib3!=1.25.0,!=1.25.1,<1.26,>=1.21.1 in ./lib/python3.7/site-packages (from requests) (1.24.2)\n",
      "Requirement already satisfied: idna<3,>=2.5 in ./lib/python3.7/site-packages (from requests) (2.8)\n",
      "Requirement already satisfied: certifi>=2017.4.17 in ./lib/python3.7/site-packages (from requests) (2019.9.11)\n",
      "Requirement already satisfied: chardet<4,>=3.0.2 in ./lib/python3.7/site-packages (from requests) (3.0.4)\n",
      "\u001b[33mWARNING: You are using pip version 21.1.1; however, version 21.1.2 is available.\n",
      "You should consider upgrading via the '/opt/anaconda3/bin/python -m pip install --upgrade pip' command.\u001b[0m\n",
      "Requirement already satisfied: requests-oauthlib in ./lib/python3.7/site-packages (1.3.0)\n",
      "Requirement already satisfied: requests>=2.0.0 in ./lib/python3.7/site-packages (from requests-oauthlib) (2.24.0)\n",
      "Requirement already satisfied: oauthlib>=3.0.0 in ./lib/python3.7/site-packages (from requests-oauthlib) (3.1.0)\n",
      "Requirement already satisfied: chardet<4,>=3.0.2 in ./lib/python3.7/site-packages (from requests>=2.0.0->requests-oauthlib) (3.0.4)\n",
      "Requirement already satisfied: idna<3,>=2.5 in ./lib/python3.7/site-packages (from requests>=2.0.0->requests-oauthlib) (2.8)\n",
      "Requirement already satisfied: certifi>=2017.4.17 in ./lib/python3.7/site-packages (from requests>=2.0.0->requests-oauthlib) (2019.9.11)\n",
      "Requirement already satisfied: urllib3!=1.25.0,!=1.25.1,<1.26,>=1.21.1 in ./lib/python3.7/site-packages (from requests>=2.0.0->requests-oauthlib) (1.24.2)\n",
      "\u001b[33mWARNING: You are using pip version 21.1.1; however, version 21.1.2 is available.\n",
      "You should consider upgrading via the '/opt/anaconda3/bin/python -m pip install --upgrade pip' command.\u001b[0m\n"
     ]
    }
   ],
   "source": [
    "!pip install requests\n",
    "!pip install requests-oauthlib"
   ]
  },
  {
   "cell_type": "code",
   "execution_count": 346,
   "metadata": {},
   "outputs": [],
   "source": [
    "import requests\n",
    "import os\n",
    "import json\n",
    "import datetime\n",
    "import itertools\n",
    "import gzip\n",
    "os.environ['BEARER_TOKEN'] = 'ADD BEARER TOKEN HERE'"
   ]
  },
  {
   "cell_type": "code",
   "execution_count": 410,
   "metadata": {},
   "outputs": [],
   "source": [
    "# To set your environment variables in your terminal run the following line:\n",
    "# export 'BEARER_TOKEN'='<your_bearer_token>'\n",
    "\n",
    "bearer_token = os.environ.get(\"BEARER_TOKEN\")"
   ]
  },
  {
   "cell_type": "code",
   "execution_count": 411,
   "metadata": {},
   "outputs": [],
   "source": [
    "search_url = \"https://api.twitter.com/2/tweets/search/all\""
   ]
  },
  {
   "cell_type": "code",
   "execution_count": 412,
   "metadata": {},
   "outputs": [],
   "source": [
    "# Optional params: start_time,end_time,since_id,until_id,max_results,next_token,\n",
    "# expansions,tweet.fields,media.fields,poll.fields,place.fields,user.fields\n",
    "\n",
    "\n",
    "query_params = {'query': '(Coronavirus OR Corona OR CDC OR Ncov OR Wuhan OR outbreak OR China OR Koronavirus OR Wuhancoronavirus OR Wuhanlockdown OR N95 OR Kungflu OR Epidemic OR Sinophobia OR covid-19 OR covid OR covid19 OR sars-cov-2 OR COVID–19 OR corona virus OR COVD OR pandemic OR coronapocalypse OR canceleverything OR Coronials OR SocialDistancing OR SocialDistancingNow OR Social Distancing OR panicbuying OR panic buy OR panicbuy OR 14DayQuarantine OR DuringMy14DayQuarantine OR panic shopping OR panic shop OR panicshop OR InMyQuarantineSurvivalKit OR panic-buy OR panic-shop OR coronakindness OR quarantinelife OR chinese virus OR chinesevirus OR stayhomechallenge OR stay home challenge OR sflockdown OR DontBeASpreader OR lockdown OR shelteringinplace OR staysafestayhome OR trumppandemic OR flattenthecurve OR chinavirus OR flatten the curve OR quarantinelife OR PPEshortage OR saferathome OR stayathome OR stayhome OR GetMePPE OR covidiot OR epitwitter OR pandemie OR wear a mask) lang:en -is:retweet place_country:US', \n",
    "                'max_results':'500','start_time': '2019-10-01T00:00:01.000Z',\n",
    "                'end_time': '2019-10-31T23:59:00.000Z'}\n",
    "# query_params = {'query': '(Coronavirus OR Corona OR CDC OR Ncov OR Wuhan OR Outbreak OR China OR Koronavirus OR Wuhancoronavirus OR Wuhanlockdown OR N95 OR Kungflu OR Epidemic OR Sinophobia OR Covid-19 OR Covid OR Covid19 OR Sars-cov-2 OR COVID–19 OR COVD OR Pandemic OR Coronapocalypse OR CancelEverything OR Coronials OR SocialDistancing OR Panic buying OR DuringMy14DayQuarantine OR Panic shopping OR InMyQuarantineSurvivalKit OR chinese virus OR stayhomechallenge OR DontBeASpreader OR lockdown OR shelteringinplace OR staysafestayhome OR trumppandemic OR flatten the curve OR PPEshortage OR saferathome OR stayathome OR GetMePPE OR covidiot OR epitwitter OR Pandemie OR antivaccine OR  betweenmeandmydoctor OR vaccine OR cdcfraud OR cdctruth OR covidvaccineispoison OR forcedvaccines OR mybodymychoice OR noforcedflushots OR NoForcedVaccines OR notomandatoryvaccines OR NoVaccine OR saynotovaccines OR unvaccinated OR vaccinationchoice OR vaccineharm OR VaccinesAreNotTheAnswer OR vaxxed OR yeht) lang:en -is:retweet place_country:US', \n",
    "#                 'max_results':'500','start_time': '2019-11-01T00:00:01.000Z',\n",
    "#                 'end_time': '2019-11-30T23:59:00.000Z'}"
   ]
  },
  {
   "cell_type": "code",
   "execution_count": 413,
   "metadata": {},
   "outputs": [],
   "source": [
    "# AND (place_country: US) AND (start_time:2020-01-01 00:00), (end_time:2020-01-31 23:59)\n",
    "def create_headers(bearer_token):\n",
    "    headers = {\"Authorization\": \"Bearer {}\".format(bearer_token)}\n",
    "    return headers"
   ]
  },
  {
   "cell_type": "code",
   "execution_count": 414,
   "metadata": {},
   "outputs": [],
   "source": [
    "def connect_to_endpoint(url, headers, params):\n",
    "    response = requests.request(\"GET\", search_url, headers=headers, params=params)\n",
    "    #print(response.status_code)\n",
    "    if response.status_code != 200:\n",
    "        raise Exception(response.status_code, response.text)\n",
    "    return response.json()"
   ]
  },
  {
   "cell_type": "code",
   "execution_count": 415,
   "metadata": {},
   "outputs": [],
   "source": [
    "def main():\n",
    "    headers = create_headers(bearer_token)\n",
    "    count = 0\n",
    "    #with gzip.open('/Users/Meghna/Desktop/noncovid_tweets_nov.gz', 'wt', encoding='UTF-8') as zipfile:\n",
    "    with gzip.open('/Users/Meghna/Desktop/noncovid_tweets_oct.gz', 'w') as output:\n",
    "        while count <25000:\n",
    "            time.sleep(1)\n",
    "            json_response = connect_to_endpoint(search_url, headers, query_params)\n",
    "            #print(json.dumps(json_response, indent=4, sort_keys=True))\n",
    "            print()\n",
    "            for val in json_response['data']:\n",
    "                #json.dump(val, zipfile)\n",
    "                output.write(json.dumps(val).encode('utf8') + b\"\\n\")\n",
    "            count += json_response[\"meta\"][\"result_count\"]\n",
    "            print(count)\n",
    "            print(json_response['meta'])\n",
    "            query_params[\"next_token\"] = json_response[\"meta\"][\"next_token\"]"
   ]
  },
  {
   "cell_type": "code",
   "execution_count": 416,
   "metadata": {
    "scrolled": false
   },
   "outputs": [
    {
     "name": "stdout",
     "output_type": "stream",
     "text": [
      "\n",
      "465\n",
      "{'newest_id': '1190054661790797829', 'oldest_id': '1189751581044027394', 'result_count': 465, 'next_token': 'b26v89c19zqg8o3fnm91xdxcsbd3uliawfg99dtxkk9dp'}\n",
      "\n",
      "941\n",
      "{'newest_id': '1189751269390336000', 'oldest_id': '1189414697516310529', 'result_count': 476, 'next_token': 'b26v89c19zqg8o3fnm91x7hzb62anw2ebrvkvzw6tadtp'}\n",
      "\n",
      "1417\n",
      "{'newest_id': '1189413634331430912', 'oldest_id': '1189160463633977344', 'result_count': 476, 'next_token': 'b26v89c19zqg8o3fnm91x15an84vwp0goawb5tzdrbvr1'}\n",
      "\n",
      "1875\n",
      "{'newest_id': '1189159967233847296', 'oldest_id': '1188839091703635968', 'result_count': 458, 'next_token': 'b26v89c19zqg8o3fnm91iafjruhnl48rpetyxkkc201a5'}\n",
      "\n",
      "2349\n",
      "{'newest_id': '1188838765780852736', 'oldest_id': '1188467365475995654', 'result_count': 474, 'next_token': 'b26v89c19zqg8o3fnm91i1xjgs5w6xhh74nc9pzvmfjwd'}\n",
      "\n",
      "2814\n",
      "{'newest_id': '1188467215869206528', 'oldest_id': '1188115681457229825', 'result_count': 465, 'next_token': 'b26v89c19zqg8o3fnm91hvhuzmsx4at86jnaukwpqcf3x'}\n",
      "\n",
      "3278\n",
      "{'newest_id': '1188114639105642496', 'oldest_id': '1187791423912984577', 'result_count': 464, 'next_token': 'b26v89c19zqg8o3fnm9132qo3wn9qpzvzykamcv096hkt'}\n",
      "\n",
      "3737\n",
      "{'newest_id': '1187791138285113349', 'oldest_id': '1187511507753426944', 'result_count': 459, 'next_token': 'b26v89c19zqg8o3fnm912yethtxqypk8qp0k24051ekjh'}\n",
      "\n",
      "4206\n",
      "{'newest_id': '1187511434730541056', 'oldest_id': '1187332372322144256', 'result_count': 469, 'next_token': 'b26v89c19zqg8o3fnm912u5ytiyt5amgspy3p0qirtlrx'}\n",
      "\n",
      "4660\n",
      "{'newest_id': '1187332106562818048', 'oldest_id': '1187069391176978434', 'result_count': 454, 'next_token': 'b26v89c19zqg8o3fnm912nsp1fkgfvf8fc9622mx1yhz1'}\n",
      "\n",
      "5124\n",
      "{'newest_id': '1187069296171724800', 'oldest_id': '1186799975470157824', 'result_count': 464, 'next_token': 'b26v89c19zqg8o3fnm90nx4qj0p5b2r976l1g1ffajtz1'}\n",
      "\n",
      "5595\n",
      "{'newest_id': '1186799774529413120', 'oldest_id': '1186481516471377920', 'result_count': 471, 'next_token': 'b26v89c19zqg8o3fnm90nqq8yflo4ieo9zat4oqf491ml'}\n",
      "\n",
      "6057\n",
      "{'newest_id': '1186481197175713795', 'oldest_id': '1186181425818673155', 'result_count': 462, 'next_token': 'b26v89c19zqg8o3fnm90nkc2ifi8k5450p9tuxs1fh1ml'}\n",
      "\n",
      "6520\n",
      "{'newest_id': '1186180074640269312', 'oldest_id': '1185893376568315907', 'result_count': 463, 'next_token': 'b26v89c19zqg8o3fnm908tnii5n7cqgvej826agbimyrh'}\n",
      "\n",
      "6971\n",
      "{'newest_id': '1185892634310696960', 'oldest_id': '1185580319828783104', 'result_count': 451, 'next_token': 'b26v89c19zqg8o3fnm908n9156iignefl2p01cwqimsn1'}\n",
      "\n",
      "7412\n",
      "{'newest_id': '1185579854206394368', 'oldest_id': '1185293184622051330', 'result_count': 441, 'next_token': 'b26v89c19zqg8o3fnm908gv5m5gb53tga2ohy6ew1vv5p'}\n",
      "\n",
      "7886\n",
      "{'newest_id': '1185292548610412544', 'oldest_id': '1185025383231578112', 'result_count': 474, 'next_token': 'b26v89c19zqg8o3fnm908cjlvjkui2vjjalm25iyemt19'}\n",
      "\n",
      "8345\n",
      "{'newest_id': '1185025331763142656', 'oldest_id': '1184842504895680515', 'result_count': 459, 'next_token': 'b26v89c19zqg8o3fnm8zto02lgkhtyvtmc8kbriqp1cal'}\n",
      "\n",
      "8806\n",
      "{'newest_id': '1184841857169182720', 'oldest_id': '1184601521788461057', 'result_count': 461, 'next_token': 'b26v89c19zqg8o3fnm8ztjpf3kiz6xnnyntuv2r10n0ql'}\n",
      "\n",
      "9254\n",
      "{'newest_id': '1184601512061702149', 'oldest_id': '1184481723503042561', 'result_count': 448, 'next_token': 'b26v89c19zqg8o3fnm8ztfid4c13xftv4t05qxw1z60zh'}\n",
      "\n",
      "9724\n",
      "{'newest_id': '1184481667441926144', 'oldest_id': '1184295085187489794', 'result_count': 470, 'next_token': 'b26v89c19zqg8o3fnm8ztb97s4hh4po075pulps20i5j1'}\n",
      "\n",
      "10196\n",
      "{'newest_id': '1184294765430366208', 'oldest_id': '1184223103573999617', 'result_count': 472, 'next_token': 'b26v89c19zqg8o3fnm8ztb7463tmpzh963ug146tfxh19'}\n",
      "\n",
      "10659\n",
      "{'newest_id': '1184222967477071872', 'oldest_id': '1184153509467439104', 'result_count': 463, 'next_token': 'b26v89c19zqg8o3fnm8zt93ae2u8w00t7ef78hcsl1hml'}\n",
      "\n",
      "11120\n",
      "{'newest_id': '1184153465561501696', 'oldest_id': '1184098834076590085', 'result_count': 461, 'next_token': 'b26v89c19zqg8o3fnm8zt6zrm24tp9245dsbrrlow0wot'}\n",
      "\n",
      "11582\n",
      "{'newest_id': '1184098491276169217', 'oldest_id': '1183964903763148800', 'result_count': 462, 'next_token': 'b26v89c19zqg8o3fnm8zekjghndnf80wi2hefdnml1oql'}\n",
      "\n",
      "12049\n",
      "{'newest_id': '1183964891859709952', 'oldest_id': '1183932790552825858', 'result_count': 467, 'next_token': 'b26v89c19zqg8o3fnm8zekik1bl901sdilb2z9kkms70d'}\n",
      "\n",
      "12519\n",
      "{'newest_id': '1183932658356838401', 'oldest_id': '1183804093396963329', 'result_count': 470, 'next_token': 'b26v89c19zqg8o3fnm8zeicxlp987vuqihrhhanbuk6t9'}\n",
      "\n",
      "12986\n",
      "{'newest_id': '1183804080373862403', 'oldest_id': '1183558040437563392', 'result_count': 467, 'next_token': 'b26v89c19zqg8o3fnm8zec099wqf1imqdg0ow94g2lc3h'}\n",
      "\n",
      "13436\n",
      "{'newest_id': '1183557207625011200', 'oldest_id': '1183391870480764929', 'result_count': 450, 'next_token': 'b26v89c19zqg8o3fnm8ze7rzudnv45vtvqz5ghy4lwf3x'}\n",
      "\n",
      "13893\n",
      "{'newest_id': '1183391782538764293', 'oldest_id': '1183124837017030656', 'result_count': 457, 'next_token': 'b26v89c19zqg8o3fnm8ze3gg59zbyy6vlihzb3tb0dhml'}\n",
      "\n",
      "14351\n",
      "{'newest_id': '1183124703269085184', 'oldest_id': '1182957077859373056', 'result_count': 458, 'next_token': 'b26v89c19zqg8o3fnm8yzex7wnyhszod8r3xvdczdq5bx'}\n",
      "\n",
      "14811\n",
      "{'newest_id': '1182955690182221824', 'oldest_id': '1182776786310062082', 'result_count': 460, 'next_token': 'b26v89c19zqg8o3fnm8yzaod5dnoldrshvbp47dh20ol9'}\n",
      "\n",
      "15274\n",
      "{'newest_id': '1182776667330273280', 'oldest_id': '1182681722921607168', 'result_count': 463, 'next_token': 'b26v89c19zqg8o3fnm8yz8jxkvyccmm1qoye3m1vrt8ql'}\n",
      "\n",
      "15735\n",
      "{'newest_id': '1182681558483898373', 'oldest_id': '1182512421816147968', 'result_count': 461, 'next_token': 'b26v89c19zqg8o3fnm8yz6d3y2cnm433xtzvdkji6yqgt'}\n",
      "\n",
      "16196\n",
      "{'newest_id': '1182512342585823232', 'oldest_id': '1182405377939378178', 'result_count': 461, 'next_token': 'b26v89c19zqg8o3fnm8yz4834uo9ufl0kolotw61d01h9'}\n",
      "\n",
      "16660\n",
      "{'newest_id': '1182405372436516880', 'oldest_id': '1182331639998898176', 'result_count': 464, 'next_token': 'b26v89c19zqg8o3fnm8yz2496qzft2iepbvozsvvux2t9'}\n",
      "\n",
      "17119\n",
      "{'newest_id': '1182331577721917440', 'oldest_id': '1182273465233092610', 'result_count': 459, 'next_token': 'b26v89c19zqg8o3fnm8yz00qa5cdhgtbyx0j3g43s66wt'}\n",
      "\n",
      "17584\n",
      "{'newest_id': '1182273370576052225', 'oldest_id': '1182116743914893313', 'result_count': 465, 'next_token': 'b26v89c19zqg8o3fnm8yyxu7itn17t7ux3g839p64l3zx'}\n",
      "\n",
      "18044\n",
      "{'newest_id': '1182116680761143296', 'oldest_id': '1182047037484863490', 'result_count': 460, 'next_token': 'b26v89c19zqg8o3fnm8yyvqds8xjc4kb0gfi2vcuwiqv1'}\n",
      "\n",
      "18503\n",
      "{'newest_id': '1182046842584010754', 'oldest_id': '1181950486750072840', 'result_count': 459, 'next_token': 'b26v89c19zqg8o3fnm8yk9b9p0gdze8oa61dxvkcnfi4d'}\n",
      "\n",
      "18967\n",
      "{'newest_id': '1181950305912492032', 'oldest_id': '1181779484019773440', 'result_count': 464, 'next_token': 'b26v89c19zqg8o3fnm8yk52fcuvwcofbbmohjuyze8whp'}\n",
      "\n",
      "19424\n",
      "{'newest_id': '1181779365983600640', 'oldest_id': '1181683251351416833', 'result_count': 457, 'next_token': 'b26v89c19zqg8o3fnm8yk2xzqu4vgqu8gkd37szwo90n1'}\n",
      "\n",
      "19885\n",
      "{'newest_id': '1181682996266622977', 'oldest_id': '1181604899768979462', 'result_count': 461, 'next_token': 'b26v89c19zqg8o3fnm8yk2vlgz1jearxoo2g0ocw74z99'}\n",
      "\n",
      "20341\n",
      "{'newest_id': '1181604713868824577', 'oldest_id': '1181530456476573696', 'result_count': 456, 'next_token': 'b26v89c19zqg8o3fnm8yk0rrituxng2q7r6a5y9x2jbel'}\n",
      "\n",
      "20796\n",
      "{'newest_id': '1181529915642073088', 'oldest_id': '1181344767482814465', 'result_count': 455, 'next_token': 'b26v89c19zqg8o3fnm8yjwim6ofypqz6ype0o2khuknel'}\n",
      "\n",
      "21265\n",
      "{'newest_id': '1181344747144638464', 'oldest_id': '1181241312890232832', 'result_count': 469, 'next_token': 'b26v89c19zqg8o3fnm8yjudvwrr9b4v4go8annkww98cd'}\n",
      "\n",
      "21720\n",
      "{'newest_id': '1181241072023818240', 'oldest_id': '1181111058536099846', 'result_count': 455, 'next_token': 'b26v89c19zqg8o3fnm8yjs89e519aon5sw36k2dzp3vct'}\n",
      "\n",
      "22195\n",
      "{'newest_id': '1181110956690042880', 'oldest_id': '1181015205507153920', 'result_count': 475, 'next_token': 'b26v89c19zqg8o3fnm8yjq3jevziwlm6k5aak9zphz6gt'}\n",
      "\n",
      "22676\n",
      "{'newest_id': '1181015068009467905', 'oldest_id': '1180939954425339905', 'result_count': 481, 'next_token': 'b26v89c19zqg8o3fnm8y53oqksdg4ctmz651gekz9hdvh'}\n",
      "\n",
      "23142\n",
      "{'newest_id': '1180939614305030146', 'oldest_id': '1180826855546355712', 'result_count': 466, 'next_token': 'b26v89c19zqg8o3fnm8y51jpigyfx35j4fkl0nqa88yv1'}\n",
      "\n",
      "23607\n",
      "{'newest_id': '1180825992228675585', 'oldest_id': '1180559904018518016', 'result_count': 465, 'next_token': 'b26v89c19zqg8o3fnm8y4v6fkb9wu5kwsowadu7m995rx'}\n",
      "\n",
      "24059\n",
      "{'newest_id': '1180559821055184899', 'oldest_id': '1180372368973164544', 'result_count': 452, 'next_token': 'b26v89c19zqg8o3fnm8y4qxkjugx6utg1gs10dd5x09dp'}\n",
      "\n",
      "24527\n",
      "{'newest_id': '1180372226803154949', 'oldest_id': '1180233896471826432', 'result_count': 468, 'next_token': 'b26v89c19zqg8o3fnm8y4ornacp9b6e7561bcwg3p26il'}\n",
      "\n",
      "24998\n",
      "{'newest_id': '1180233242118516736', 'oldest_id': '1180139293873975297', 'result_count': 471, 'next_token': 'b26v89c19zqg8o3fnm8y4mmxe371ryyi45zc2vexcxksd'}\n",
      "\n",
      "25458\n",
      "{'newest_id': '1180139217487355904', 'oldest_id': '1179989528146259971', 'result_count': 460, 'next_token': 'b26v89c19zqg8o3fnm625m6iq6jvlteyk0t7xroobvtdp'}\n"
     ]
    }
   ],
   "source": [
    "if __name__ == \"__main__\":\n",
    "    main()"
   ]
  },
  {
   "cell_type": "code",
   "execution_count": 382,
   "metadata": {},
   "outputs": [
    {
     "name": "stdout",
     "output_type": "stream",
     "text": [
      "1192441263066374145\n"
     ]
    }
   ],
   "source": [
    "# with gzip.open('/Users/Meghna/Desktop/noncovid_tweets.gz', 'rb') as zipfile:\n",
    "#     for line in zipfile:\n",
    "#         tweet = json.loads(line)\n",
    "#         print(tweet['id'])\n",
    "#         break\n",
    "               "
   ]
  },
  {
   "cell_type": "code",
   "execution_count": 22,
   "metadata": {},
   "outputs": [],
   "source": [
    "# from searchtweets import ResultStream, gen_request_parameters, load_credentials"
   ]
  },
  {
   "cell_type": "code",
   "execution_count": null,
   "metadata": {},
   "outputs": [],
   "source": [
    "# search_args = load_credentials(filename=\"~/.twitter_keys.yaml\",\n",
    "#                  yaml_key=\"search_tweets_v2\",\n",
    "#                  env_overwrite=False)\n",
    "\n",
    "# query = gen_request_parameters(query, start_time=start_time, results_per_call=100, expansions='author_id,geo.place_id', tweet_fields='created_at,geo',user_fields='description,location')\n",
    "\n",
    "# rs = ResultStream(request_parameters=query,\n",
    "#                     max_results=10000,\n",
    "#                     max_pages=10000,\n",
    "#                     max_tweets=10000,\n",
    "#                     **search_args)"
   ]
  },
  {
   "cell_type": "code",
   "execution_count": 167,
   "metadata": {
    "scrolled": false
   },
   "source": [
    "from twarc.client2 import Twarc2\n",
    "from twarc.expansions import flatten\n",
    "\n",
    "# Your bearer token here\n",
    "t = Twarc2(bearer_token='ADD BEARER TOKEN HERE')\n",
    "\n",
    "# Start and end times must be in UTC\n",
    "start_time = datetime.datetime(2020, 1, 1, 0, 0, 0, 0, datetime.timezone.utc)\n",
    "end_time = datetime.datetime(2020, 1, 31, 0, 0, 0, 0, datetime.timezone.utc)\n",
    "\n",
    "# search_results is a generator, max_results is max tweets per page, 500 max for full archive search.\n",
    "search_results = t.search_all(query=\"covid lang:en -is:retweet\", start_time=start_time, end_time=end_time, max_results=500)\n",
    "\n",
    "# # Get just 1 page of results instead of iterating over everything in search_results:\n",
    "# # To get everything use `for page in search_results:`\n",
    "# for page in itertools.islice(search_results, 1):\n",
    "#     # Do something with the page of results:\n",
    "#     # print(page)\n",
    "#     # or alternatively, \"flatten\" results returning 1 tweet at a time, with expansions inline:\n",
    "#     for tweet in flatten(page)['data']:\n",
    "#         # Do something with the tweet\n",
    "#         print(tweet)\n",
    "\n",
    "# this will get all pages\n",
    "for page in search_results:\n",
    "    # flatten applies to a page of results, \n",
    "    # and modifies the original response to append extra info\n",
    "    expanded = flatten(page) \n",
    "    #for tweet in expanded['data']:\n",
    "    for tweet in expanded['data']:\n",
    "        print(tweet)"
   ]
  },
  {
   "cell_type": "code",
   "execution_count": null,
   "metadata": {},
   "outputs": [],
   "source": []
  }
 ],
 "metadata": {
  "kernelspec": {
   "display_name": "Python 3",
   "language": "python",
   "name": "python3"
  },
  "language_info": {
   "codemirror_mode": {
    "name": "ipython",
    "version": 3
   },
   "file_extension": ".py",
   "mimetype": "text/x-python",
   "name": "python",
   "nbconvert_exporter": "python",
   "pygments_lexer": "ipython3",
   "version": "3.7.4"
  }
 },
 "nbformat": 4,
 "nbformat_minor": 2
}
